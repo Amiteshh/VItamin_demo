{
  "nbformat": 4,
  "nbformat_minor": 0,
  "metadata": {
    "colab": {
      "name": "OzGrav_VItamin_demo.ipynb",
      "provenance": [],
      "collapsed_sections": []
    },
    "kernelspec": {
      "name": "python3",
      "display_name": "Python 3"
    }
  },
  "cells": [
    {
      "cell_type": "markdown",
      "metadata": {
        "id": "mdoMTkVPVL6E",
        "colab_type": "text"
      },
      "source": [
        "# Imports"
      ]
    },
    {
      "cell_type": "code",
      "metadata": {
        "id": "ZI04ILUsRgRc",
        "colab_type": "code",
        "colab": {}
      },
      "source": [
        ""
      ],
      "execution_count": 0,
      "outputs": []
    },
    {
      "cell_type": "markdown",
      "metadata": {
        "id": "VZdzHYaSVPvb",
        "colab_type": "text"
      },
      "source": [
        "# Backgrounds\n",
        "\n",
        "This tutorial is based on the paper Bayesian Parameter Estimation using Conditional Variational Autoencoders for Gravitational-wave Astronomy (https://arxiv.org/abs/1909.06296). In this demo, we will show how a form of conditional variational autoencoders work and how to reproduce Bayesian posteriors several orders of magnitude faster than exisitng Bayesian techniques."
      ]
    },
    {
      "cell_type": "code",
      "metadata": {
        "id": "IBHd896AVRs9",
        "colab_type": "code",
        "colab": {}
      },
      "source": [
        ""
      ],
      "execution_count": 0,
      "outputs": []
    },
    {
      "cell_type": "markdown",
      "metadata": {
        "id": "rMXMU1DTWoep",
        "colab_type": "text"
      },
      "source": [
        "# Generate Bilby Posteriors"
      ]
    },
    {
      "cell_type": "markdown",
      "metadata": {
        "id": "0DHQHxuacdFi",
        "colab_type": "text"
      },
      "source": [
        "## Define bounds and default fixed values for source parameters and search"
      ]
    },
    {
      "cell_type": "markdown",
      "metadata": {
        "id": "IbVDzVuBciLz",
        "colab_type": "text"
      },
      "source": [
        "## Generate Requested number of testing samples"
      ]
    },
    {
      "cell_type": "markdown",
      "metadata": {
        "id": "VCo6hAuTWvQf",
        "colab_type": "text"
      },
      "source": [
        "# Intro to VItamin"
      ]
    },
    {
      "cell_type": "code",
      "metadata": {
        "id": "NAYQo8-oW9LV",
        "colab_type": "code",
        "colab": {}
      },
      "source": [
        ""
      ],
      "execution_count": 0,
      "outputs": []
    },
    {
      "cell_type": "markdown",
      "metadata": {
        "id": "dhhXcM5NW92Q",
        "colab_type": "text"
      },
      "source": [
        "# Generate Traning Samples"
      ]
    },
    {
      "cell_type": "code",
      "metadata": {
        "id": "3euU5D6zXCGv",
        "colab_type": "code",
        "outputId": "165e2413-c365-46a6-ef6a-1ab2f7ba62ac",
        "colab": {
          "base_uri": "https://localhost:8080/",
          "height": 35
        }
      },
      "source": [
        "ls"
      ],
      "execution_count": 0,
      "outputs": [
        {
          "output_type": "stream",
          "text": [
            "\u001b[0m\u001b[01;34msample_data\u001b[0m/\n"
          ],
          "name": "stdout"
        }
      ]
    },
    {
      "cell_type": "markdown",
      "metadata": {
        "id": "QeE98hRnXadJ",
        "colab_type": "text"
      },
      "source": [
        "# Compare Bilby vs. VItamin"
      ]
    },
    {
      "cell_type": "code",
      "metadata": {
        "id": "2sGBzCe9AyB_",
        "colab_type": "code",
        "colab": {}
      },
      "source": [
        "from google.colab import drive\n",
        "drive.mount('/content/drive')"
      ],
      "execution_count": 0,
      "outputs": []
    },
    {
      "cell_type": "code",
      "metadata": {
        "id": "1DsnK_tPXepg",
        "colab_type": "code",
        "colab": {}
      },
      "source": [
        ""
      ],
      "execution_count": 0,
      "outputs": []
    },
    {
      "cell_type": "markdown",
      "metadata": {
        "id": "7T4N8EJLXgu-",
        "colab_type": "text"
      },
      "source": [
        "# Further Reading"
      ]
    },
    {
      "cell_type": "code",
      "metadata": {
        "id": "maLy6ASgXkQx",
        "colab_type": "code",
        "colab": {}
      },
      "source": [
        ""
      ],
      "execution_count": 0,
      "outputs": []
    }
  ]
}